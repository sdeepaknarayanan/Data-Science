{
 "cells": [
  {
   "cell_type": "markdown",
   "metadata": {},
   "source": [
    "### Q3"
   ]
  },
  {
   "cell_type": "code",
   "execution_count": 1,
   "metadata": {},
   "outputs": [],
   "source": [
    "import numpy as np\n",
    "import matplotlib.pyplot as plt"
   ]
  },
  {
   "cell_type": "code",
   "execution_count": 27,
   "metadata": {},
   "outputs": [],
   "source": [
    "d = 6\n",
    "mean = np.array([0 for i in range(d)])\n",
    "cov = np.eye(d)"
   ]
  },
  {
   "cell_type": "code",
   "execution_count": 28,
   "metadata": {},
   "outputs": [],
   "source": [
    "samples = np.random.multivariate_normal(mean, cov, 1000000)\n",
    "distance = np.zeros(len(samples))\n",
    "for i in range(len(samples)):\n",
    "    distance[i] = np.linalg.norm(samples[i])"
   ]
  },
  {
   "cell_type": "code",
   "execution_count": 29,
   "metadata": {},
   "outputs": [],
   "source": [
    "lower_bound = np.sqrt(d)-2*d**(0.25)\n",
    "upper_bound = np.sqrt(d)+2*d**(0.25)\n",
    "count = 0\n",
    "for i in range(len(distance)):\n",
    "    if distance[i]>=lower_bound and distance[i]<=upper_bound:\n",
    "        count+=1"
   ]
  },
  {
   "cell_type": "code",
   "execution_count": null,
   "metadata": {},
   "outputs": [],
   "source": [
    "frac = {}\n",
    "for d in range(10,1010,10):\n",
    "    mean = np.array([0 for i in range(d)])\n",
    "    cov = np.eye(d)\n",
    "    samples = np.random.multivariate_normal(mean, cov, 1000000)\n",
    "    distance = np.zeros(len(samples))\n",
    "    for i in range(len(samples)):\n",
    "        distance[i] = np.linalg.norm(samples[i])\n",
    "    lower_bound = np.sqrt(d)-2*d**(0.25)\n",
    "    upper_bound = np.sqrt(d)+2*d**(0.25)\n",
    "    count = 0\n",
    "    for i in range(len(distance)):\n",
    "        if distance[i]>=lower_bound and distance[i]<=upper_bound:\n",
    "            count+=1\n",
    "    frac[d] = count/len(samples)"
   ]
  },
  {
   "cell_type": "code",
   "execution_count": null,
   "metadata": {},
   "outputs": [],
   "source": [
    "plt.plot([d for d in range(10,1010,10)],frac[d])\n",
    "plt.xlabel('Dimension')\n",
    "plt.ylabel('Fraction of points in the annulus')\n",
    "plt.title('Number of points at approximately ')"
   ]
  }
 ],
 "metadata": {
  "kernelspec": {
   "display_name": "Python 3",
   "language": "python",
   "name": "python3"
  },
  "language_info": {
   "codemirror_mode": {
    "name": "ipython",
    "version": 3
   },
   "file_extension": ".py",
   "mimetype": "text/x-python",
   "name": "python",
   "nbconvert_exporter": "python",
   "pygments_lexer": "ipython3",
   "version": "3.6.6"
  }
 },
 "nbformat": 4,
 "nbformat_minor": 2
}
