{
 "cells": [
  {
   "cell_type": "markdown",
   "metadata": {},
   "source": [
    "### Q3 - Showing that most points sampled from a d-dimensional gaussian are in the annulus "
   ]
  },
  {
   "cell_type": "markdown",
   "metadata": {},
   "source": [
    "Number of points sampled is 1 Lakh, due to frequent memory crashes on my laptop when I extend it to 1 Million points."
   ]
  },
  {
   "cell_type": "code",
   "execution_count": 1,
   "metadata": {},
   "outputs": [],
   "source": [
    "import numpy as np\n",
    "import matplotlib.pyplot as plt"
   ]
  },
  {
   "cell_type": "code",
   "execution_count": 24,
   "metadata": {},
   "outputs": [
    {
     "data": {
      "text/plain": [
       "{10: 1.0}"
      ]
     },
     "execution_count": 24,
     "metadata": {},
     "output_type": "execute_result"
    }
   ],
   "source": [
    "fraction = {}\n",
    "for current_dimension in range(10,1000,10):\n",
    "    mean = np.zeros(current_dimension)\n",
    "    covariance = np.eye(current_dimension)\n",
    "    sampled_points = np.random.multivariate_normal(mean,covariance,1000)\n",
    "    inner_radius = current_dimension**0.5 - 2*current_dimension**0.25\n",
    "    outer_radius = current_dimension**0.5 + 2*current_dimension**0.25\n",
    "    number_of_points = 0\n",
    "    for i in range(len(sampled_points)):\n",
    "        if np.linalg.norm(sampled_points[i])>=inner_radius and np.linalg.norm(sampled_points[i])<=outer_radius:\n",
    "            number_of_points+=1\n",
    "    fraction[current_dimension] = number_of_points/1000\n",
    "    break\n",
    "    \n",
    "fraction"
   ]
  },
  {
   "cell_type": "code",
   "execution_count": 12,
   "metadata": {},
   "outputs": [
    {
     "data": {
      "text/plain": [
       "{10: 1.0}"
      ]
     },
     "execution_count": 12,
     "metadata": {},
     "output_type": "execute_result"
    }
   ],
   "source": [
    "fraction"
   ]
  },
  {
   "cell_type": "code",
   "execution_count": 3,
   "metadata": {},
   "outputs": [
    {
     "data": {
      "text/plain": [
       "Text(0.5, 1.0, 'Number of points at approximately in the ring')"
      ]
     },
     "execution_count": 3,
     "metadata": {},
     "output_type": "execute_result"
    },
    {
     "data": {
      "image/png": "[encoded data removed]",
      "text/plain": [
       "<Figure size 432x288 with 1 Axes>"
      ]
     },
     "metadata": {
      "needs_background": "light"
     },
     "output_type": "display_data"
    }
   ],
   "source": [
    "plt.plot([d for d in fraction.keys()],list(fraction.values()))\n",
    "plt.xlabel('Dimension')\n",
    "plt.ylabel('Fraction of points in the annulus')\n",
    "plt.title('Number of points at approximately in the ring')"
   ]
  }
 ],
 "metadata": {
  "kernelspec": {
   "display_name": "Python 3",
   "language": "python",
   "name": "python3"
  },
  "language_info": {
   "codemirror_mode": {
    "name": "ipython",
    "version": 3
   },
   "file_extension": ".py",
   "mimetype": "text/x-python",
   "name": "python",
   "nbconvert_exporter": "python",
   "pygments_lexer": "ipython3",
   "version": "3.6.8"
  }
 },
 "nbformat": 4,
 "nbformat_minor": 2
}
