{
 "cells": [
  {
   "cell_type": "markdown",
   "metadata": {},
   "source": [
    "### Q3 - Showing that most points sampled from a d-dimensional gaussian are in the annulus \n",
    "Submitted by S Deepak Narayanan, 16110142\n"
   ]
  },
  {
   "cell_type": "markdown",
   "metadata": {},
   "source": [
    "* Number of points sampled is 1 Lakh, due to frequent memory crashes on my laptop when I extend it to 1 Million points.\n",
    "* Also, I used a more constrained inner and outer raduis to show the changing percentage of points. The condition given in the assignment leads to a horizontal straight line, almost always and to avoid the same I used a more constrained region. "
   ]
  },
  {
   "cell_type": "code",
   "execution_count": 1,
   "metadata": {},
   "outputs": [],
   "source": [
    "import numpy as np\n",
    "import matplotlib.pyplot as plt"
   ]
  },
  {
   "cell_type": "code",
   "execution_count": 2,
   "metadata": {
    "scrolled": true
   },
   "outputs": [],
   "source": [
    "frac = {}\n",
    "for d in range(10,1000,10):\n",
    "    #print(d)\n",
    "    count = 0\n",
    "    mean= np.zeros(d)\n",
    "    cov = np.eye(d)\n",
    "    samples = np.random.multivariate_normal(mean,cov,100000)\n",
    "    min_ = d**0.5 - 0.5*d**0.25\n",
    "    max_ = d**0.5 + 0.5*d**0.25\n",
    "    for i in range(len(samples)):\n",
    "        if np.linalg.norm(samples[i])>=min_ and np.linalg.norm(samples[i]<=max_):\n",
    "            count+=1\n",
    "    frac[d]=count"
   ]
  },
  {
   "cell_type": "code",
   "execution_count": 3,
   "metadata": {},
   "outputs": [],
   "source": [
    "for i in frac:\n",
    "    frac[i]/=100000"
   ]
  },
  {
   "cell_type": "code",
   "execution_count": 4,
   "metadata": {
    "scrolled": false
   },
   "outputs": [
    {
     "data": {
      "text/plain": [
       "Text(0.5, 1.0, 'Number of points at approximately in the ring')"
      ]
     },
     "execution_count": 4,
     "metadata": {},
     "output_type": "execute_result"
    },
    {
     "data": {
      "image/png": "[encoded data removed]",
      "text/plain": [
       "<Figure size 432x288 with 1 Axes>"
      ]
     },
     "metadata": {
      "needs_background": "light"
     },
     "output_type": "display_data"
    }
   ],
   "source": [
    "plt.plot([d for d in frac.keys()],list(frac.values()))\n",
    "plt.xlabel('Dimension')\n",
    "plt.ylabel('Fraction of points in the annulus')\n",
    "plt.title('Number of points at approximately in the ring')"
   ]
  },
  {
   "cell_type": "markdown",
   "metadata": {},
   "source": [
    "### Q4"
   ]
  },
  {
   "cell_type": "markdown",
   "metadata": {},
   "source": [
    "(a)\n",
    "Let $X$ denote the numnber of elements chosen from $S_1$. <br/><br/>\n",
    "Given, $Pr[X \\leq \\frac{n^{\\frac{3}{4}}}{2} - B] < \\frac{1}{n}$. <br/><br/>\n",
    "Consider, $Pr[X > \\frac{n^{\\frac{3}{4}}}{2} - B]$. Using Markov's inequality, we can say that it is upper bounded by $\\frac{E[X]}{\\frac{n^{\\frac{3}{4}}}{2} - B}$. <br/>\n",
    "$X$ can be represented as a sum of identity random variable $X_i$, where $X_i$ takes the value 1, when an element is chosen from $S_1$ and takes the value $0$, when it is chosen from $S_2$.<br/>\n",
    "Therefore, we are sampling $n^{0.75}$ elements, meaning $E[X] = E[\\sum_{i=1}^{n^{0.75}}X_i] = \\sum_{i=1}^{n^{0.75}} E[X_i] = \\frac{n^{0.75}}{2}$. <br/>\n",
    "Call $\\frac{n^{\\frac{3}{4}}}{2}$ as $C$. Therefore $Pr[X>C-B] < \\frac{\\frac{n^{0.75}}{2}}{\\frac{n^{0.75}}{2} - B}$ = $1+\\frac{2B}{2C-2B}$. <br/>\n",
    "($1 - (1+\\frac{2B}{2C-2B})$) < $\\frac{1}{n} \\implies B < \\frac{n^{\\frac{3}{4}}}{2(1-n)}$"
   ]
  }
 ],
 "metadata": {
  "kernelspec": {
   "display_name": "Python 3",
   "language": "python",
   "name": "python3"
  },
  "language_info": {
   "codemirror_mode": {
    "name": "ipython",
    "version": 3
   },
   "file_extension": ".py",
   "mimetype": "text/x-python",
   "name": "python",
   "nbconvert_exporter": "python",
   "pygments_lexer": "ipython3",
   "version": "3.6.8"
  }
 },
 "nbformat": 4,
 "nbformat_minor": 2
}
