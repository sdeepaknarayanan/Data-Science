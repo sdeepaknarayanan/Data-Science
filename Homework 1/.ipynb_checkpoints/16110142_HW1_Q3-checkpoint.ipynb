{
 "cells": [
  {
   "cell_type": "markdown",
   "metadata": {},
   "source": [
    "### Q3 - Showing that most points sampled from a d-dimensional gaussian are in the annulus "
   ]
  },
  {
   "cell_type": "code",
   "execution_count": 1,
   "metadata": {},
   "outputs": [],
   "source": [
    "import numpy as np\n",
    "import matplotlib.pyplot as plt"
   ]
  },
  {
   "cell_type": "code",
   "execution_count": 2,
   "metadata": {},
   "outputs": [],
   "source": [
    "fraction = {}\n",
    "for current_dimension in range(10,1000,10):\n",
    "    mean = np.zeros(current_dimension)\n",
    "    covariance = np.eye(current_dimension)\n",
    "    sampled_points = np.random.multivariate_normal(mean,covariance,1000)\n",
    "    inner_radius = d**2 - 0.5*d**0.25\n",
    "    outer_radius = d**2 + 0.5*d**0.25"
   ]
  },
  {
   "cell_type": "code",
   "execution_count": 6,
   "metadata": {},
   "outputs": [
    {
     "data": {
      "text/plain": [
       "{10: 1e-05,\n",
       " 20: 0.0,\n",
       " 30: 0.0,\n",
       " 40: 0.0,\n",
       " 50: 0.0,\n",
       " 60: 0.0,\n",
       " 70: 0.0,\n",
       " 80: 0.0,\n",
       " 90: 0.0,\n",
       " 100: 0.0,\n",
       " 110: 0.0,\n",
       " 120: 0.0,\n",
       " 130: 0.0,\n",
       " 140: 0.0,\n",
       " 150: 0.0,\n",
       " 160: 0.0,\n",
       " 170: 0.0,\n",
       " 180: 0.0,\n",
       " 190: 0.0,\n",
       " 200: 0.0,\n",
       " 210: 0.0,\n",
       " 220: 0.0,\n",
       " 230: 0.0,\n",
       " 240: 0.0,\n",
       " 250: 0.0,\n",
       " 260: 0.0,\n",
       " 270: 0.0,\n",
       " 280: 0.0,\n",
       " 290: 0.0,\n",
       " 300: 0.0,\n",
       " 310: 0.0,\n",
       " 320: 0.0,\n",
       " 330: 0.0,\n",
       " 340: 0.0,\n",
       " 350: 0.0,\n",
       " 360: 0.0,\n",
       " 370: 0.0,\n",
       " 380: 0.0,\n",
       " 390: 0.0,\n",
       " 400: 0.0,\n",
       " 410: 0.0,\n",
       " 420: 0.0,\n",
       " 430: 0.0,\n",
       " 440: 0.0,\n",
       " 450: 0.0,\n",
       " 460: 0.0,\n",
       " 470: 0.0,\n",
       " 480: 0.0,\n",
       " 490: 0.0,\n",
       " 500: 0.0,\n",
       " 510: 0.0,\n",
       " 520: 0.0,\n",
       " 530: 0.0,\n",
       " 540: 0.0,\n",
       " 550: 0.0,\n",
       " 560: 0.0,\n",
       " 570: 0.0,\n",
       " 580: 0.0,\n",
       " 590: 0.0,\n",
       " 600: 0.0,\n",
       " 610: 0.0,\n",
       " 620: 0.0,\n",
       " 630: 0.0,\n",
       " 640: 0.0,\n",
       " 650: 0.0,\n",
       " 660: 0.0,\n",
       " 670: 0.0,\n",
       " 680: 0.0,\n",
       " 690: 0.0,\n",
       " 700: 0.0,\n",
       " 710: 0.0,\n",
       " 720: 0.0,\n",
       " 730: 0.0,\n",
       " 740: 0.0,\n",
       " 750: 0.0,\n",
       " 760: 0.0,\n",
       " 770: 0.0,\n",
       " 780: 0.0,\n",
       " 790: 0.0,\n",
       " 800: 0.0,\n",
       " 810: 0.0,\n",
       " 820: 0.0,\n",
       " 830: 0.0,\n",
       " 840: 0.0,\n",
       " 850: 0.0,\n",
       " 860: 0.0,\n",
       " 870: 0.0,\n",
       " 880: 0.0,\n",
       " 890: 0.0,\n",
       " 900: 0.0,\n",
       " 910: 0.0,\n",
       " 920: 0.0,\n",
       " 930: 0.0,\n",
       " 940: 0.0,\n",
       " 950: 0.0,\n",
       " 960: 0.0,\n",
       " 970: 0.0,\n",
       " 980: 0.0,\n",
       " 990: 0.0,\n",
       " 1000: 0.0}"
      ]
     },
     "execution_count": 6,
     "metadata": {},
     "output_type": "execute_result"
    }
   ],
   "source": [
    "frac"
   ]
  },
  {
   "cell_type": "code",
   "execution_count": 14,
   "metadata": {},
   "outputs": [
    {
     "data": {
      "text/plain": [
       "Text(0.5, 1.0, 'Number of points at approximately the ring')"
      ]
     },
     "execution_count": 14,
     "metadata": {},
     "output_type": "execute_result"
    },
    {
     "data": {
      "image/png": "[encoded data removed]",
      "text/plain": [
       "<Figure size 432x288 with 1 Axes>"
      ]
     },
     "metadata": {
      "needs_background": "light"
     },
     "output_type": "display_data"
    }
   ],
   "source": [
    "plt.plot([d for d in frac.keys()][:5],list(frac.values())[:5])\n",
    "plt.xlabel('Dimension')\n",
    "plt.ylabel('Fraction of points in the annulus')\n",
    "plt.title('Number of points at approximately the ring')"
   ]
  }
 ],
 "metadata": {
  "kernelspec": {
   "display_name": "Python 3",
   "language": "python",
   "name": "python3"
  },
  "language_info": {
   "codemirror_mode": {
    "name": "ipython",
    "version": 3
   },
   "file_extension": ".py",
   "mimetype": "text/x-python",
   "name": "python",
   "nbconvert_exporter": "python",
   "pygments_lexer": "ipython3",
   "version": "3.6.8"
  }
 },
 "nbformat": 4,
 "nbformat_minor": 2
}
