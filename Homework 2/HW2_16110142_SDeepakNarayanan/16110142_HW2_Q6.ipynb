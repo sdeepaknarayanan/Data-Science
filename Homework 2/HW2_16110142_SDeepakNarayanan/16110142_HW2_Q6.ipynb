{
 "cells": [
  {
   "cell_type": "markdown",
   "metadata": {},
   "source": [
    "Dependencies - Networkx 2.1"
   ]
  },
  {
   "cell_type": "code",
   "execution_count": 1,
   "metadata": {},
   "outputs": [],
   "source": [
    "import matplotlib.pyplot as plt\n",
    "import numpy as np\n",
    "import networkx as nx"
   ]
  },
  {
   "cell_type": "code",
   "execution_count": 2,
   "metadata": {},
   "outputs": [],
   "source": [
    "G = nx.DiGraph()\n",
    "dataset = open('web-Stanford.txt','r')\n",
    "for i in dataset:\n",
    "    b = i.split()\n",
    "    if b[0]!='#':\n",
    "        G.add_edge(int(b[0]),int(b[1]))\n",
    "G.remove_edges_from(nx.selfloop_edges(G))\n",
    "dataset.close()"
   ]
  },
  {
   "cell_type": "code",
   "execution_count": 3,
   "metadata": {},
   "outputs": [],
   "source": [
    "largest_cc = max(nx.weakly_connected_components(G), key=len)\n",
    "H = nx.induced_subgraph(G,largest_cc)\n",
    "nodes = list(H.nodes())"
   ]
  },
  {
   "cell_type": "code",
   "execution_count": 4,
   "metadata": {},
   "outputs": [
    {
     "name": "stdout",
     "output_type": "stream",
     "text": [
      "0.0019792669103977215\n",
      "Iteration  1  done\n",
      "Iteration  2  done\n",
      "Iteration  3  done\n",
      "Iteration  4  done\n",
      "Iteration  5  done\n",
      "Iteration  6  done\n",
      "Iteration  7  done\n",
      "Iteration  8  done\n",
      "Iteration  9  done\n",
      "Iteration  10  done\n"
     ]
    }
   ],
   "source": [
    "A = nx.adjacency_matrix(H)\n",
    "v = np.ones(len(H))\n",
    "v = v/np.linalg.norm(v)\n",
    "print(v[0])\n",
    "for i in range(10):\n",
    "    u = A.dot(v)\n",
    "    u = u/np.linalg.norm(u)\n",
    "    v = np.transpose(A).dot(u)\n",
    "    v = v/np.linalg.norm(v)\n",
    "    print(\"Iteration \",i+1,\" done\")"
   ]
  },
  {
   "cell_type": "code",
   "execution_count": 5,
   "metadata": {},
   "outputs": [],
   "source": [
    "c = 5\n",
    "v_arr = []\n",
    "v_score = []\n",
    "a = np.copy(v)\n",
    "while(c>0):\n",
    "    index_v = np.argmax(a)\n",
    "    v_score.append(index_v)\n",
    "    v_arr.append(nodes[index_v])\n",
    "    a[index_v] = 0\n",
    "    c-=1\n",
    "\n",
    "c = 5\n",
    "u_arr = []\n",
    "u_score = []\n",
    "b = np.copy(u)\n",
    "while(c>0):\n",
    "    index_u = np.argmax(b)\n",
    "    u_score.append(index_u)\n",
    "    u_arr.append(nodes[index_u])\n",
    "    b[index_u] = 0\n",
    "    c-=1"
   ]
  },
  {
   "cell_type": "code",
   "execution_count": 6,
   "metadata": {},
   "outputs": [
    {
     "name": "stdout",
     "output_type": "stream",
     "text": [
      "The Results are:\n",
      "**********************************************************************\n",
      "Authority 1 value is  0.34858422370389863  and the nodeid is  226411\n",
      "Authority 2 value is  0.3171359597166192  and the nodeid is  234704\n",
      "Authority 3 value is  0.3125407788102123  and the nodeid is  105607\n",
      "Authority 4 value is  0.31160597741238905  and the nodeid is  198090\n",
      "Authority 5 value is  0.3115988035333823  and the nodeid is  81435\n",
      "Hub 1 value is 0.007256478409142563  and the nodeid is  97968\n",
      "Hub 2 value is 0.00725593625182206  and the nodeid is  193259\n",
      "Hub 3 value is 0.007255288122103877  and the nodeid is  275047\n",
      "Hub 4 value is 0.0072549370867031684  and the nodeid is  102208\n",
      "Hub 5 value is 0.007254219292348835  and the nodeid is  151695\n",
      "**********************************************************************\n"
     ]
    }
   ],
   "source": [
    "print(\"The Results are:\")\n",
    "print('*'*70)\n",
    "for i in range(len(v_score)):\n",
    "    print(\"Authority \"+str(i+1),\"value is \",v[v_score[i]],\" and the nodeid is \",v_arr[i])\n",
    "for i in range(len(u_score)):\n",
    "    print(\"Hub \"+str(i+1),\"value is\",u[u_score[i]],\" and the nodeid is \",u_arr[i])\n",
    "print('*'*70)\n"
   ]
  }
 ],
 "metadata": {
  "kernelspec": {
   "display_name": "Python 3",
   "language": "python",
   "name": "python3"
  },
  "language_info": {
   "codemirror_mode": {
    "name": "ipython",
    "version": 3
   },
   "file_extension": ".py",
   "mimetype": "text/x-python",
   "name": "python",
   "nbconvert_exporter": "python",
   "pygments_lexer": "ipython3",
   "version": "3.6.8"
  }
 },
 "nbformat": 4,
 "nbformat_minor": 2
}
