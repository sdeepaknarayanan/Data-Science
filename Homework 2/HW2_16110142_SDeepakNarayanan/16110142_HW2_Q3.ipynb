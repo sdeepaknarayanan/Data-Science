{
 "cells": [
  {
   "cell_type": "markdown",
   "metadata": {},
   "source": [
    "## Note:\n",
    "I collaborated with the following people:\n",
    "1. Varun Gohil\n",
    "2. Shivji Bhagat\n",
    "3. Kunal Verma\n",
    "4. Debanuj Nayak\n",
    "5. Smeet Vora"
   ]
  },
  {
   "cell_type": "markdown",
   "metadata": {},
   "source": [
    "### 3 (a)"
   ]
  },
  {
   "cell_type": "code",
   "execution_count": 1,
   "metadata": {},
   "outputs": [
    {
     "name": "stderr",
     "output_type": "stream",
     "text": [
      "Using TensorFlow backend.\n"
     ]
    }
   ],
   "source": [
    "from sklearn.datasets import fetch_mldata\n",
    "from sklearn.cluster import KMeans\n",
    "import numpy as np\n",
    "import matplotlib.pyplot as plt\n",
    "from collections import Counter\n",
    "import keras"
   ]
  },
  {
   "cell_type": "code",
   "execution_count": 2,
   "metadata": {},
   "outputs": [],
   "source": [
    "(X_train, y_train), (X_test, y_test) = keras.datasets.mnist.load_data()"
   ]
  },
  {
   "cell_type": "code",
   "execution_count": 3,
   "metadata": {},
   "outputs": [],
   "source": [
    "km = KMeans(n_clusters=10,init='random',max_iter=1000)"
   ]
  },
  {
   "cell_type": "code",
   "execution_count": 4,
   "metadata": {},
   "outputs": [
    {
     "data": {
      "text/plain": [
       "KMeans(algorithm='auto', copy_x=True, init='random', max_iter=1000,\n",
       "    n_clusters=10, n_init=10, n_jobs=1, precompute_distances='auto',\n",
       "    random_state=None, tol=0.0001, verbose=0)"
      ]
     },
     "execution_count": 4,
     "metadata": {},
     "output_type": "execute_result"
    }
   ],
   "source": [
    "train = []\n",
    "for i in range(len(X_train)):\n",
    "    train.append(X_train[i].flatten())\n",
    "km.fit(train)"
   ]
  },
  {
   "cell_type": "code",
   "execution_count": 5,
   "metadata": {},
   "outputs": [],
   "source": [
    "test = []\n",
    "for i in range(len(X_test)):\n",
    "    test.append(X_test[i].flatten())"
   ]
  },
  {
   "cell_type": "code",
   "execution_count": 6,
   "metadata": {},
   "outputs": [],
   "source": [
    "labels = {i:[] for i in range(10)}\n",
    "for i in range(len(train)):\n",
    "    min_ = [100,np.inf]\n",
    "    for j in range(len(km.cluster_centers_)):\n",
    "        if np.linalg.norm(km.cluster_centers_[j] - train[i])<min_[1]:\n",
    "            min_[1] = np.linalg.norm(km.cluster_centers_[j] - train[i])\n",
    "            min_[0] = j\n",
    "    labels[min_[0]].append(y_train[i])"
   ]
  },
  {
   "cell_type": "code",
   "execution_count": 7,
   "metadata": {},
   "outputs": [],
   "source": [
    "new_labels = {}\n",
    "for i in labels:\n",
    "    data = Counter(labels[i]) \n",
    "    if i not in new_labels:\n",
    "        new_labels[i] = data.most_common(1)[0][0]"
   ]
  },
  {
   "cell_type": "code",
   "execution_count": 8,
   "metadata": {},
   "outputs": [],
   "source": [
    "predicted = km.predict(test)"
   ]
  },
  {
   "cell_type": "code",
   "execution_count": 9,
   "metadata": {},
   "outputs": [
    {
     "name": "stdout",
     "output_type": "stream",
     "text": [
      "Accuracy is  59.43000000000001\n"
     ]
    }
   ],
   "source": [
    "accurate = 0\n",
    "for i in range(len(predicted)):\n",
    "    if new_labels[predicted[i]]==y_test[i]:\n",
    "        accurate+=1\n",
    "print(\"Accuracy is \",accurate/len(y_test)*100)"
   ]
  },
  {
   "cell_type": "markdown",
   "metadata": {},
   "source": [
    "### 3 (b)"
   ]
  },
  {
   "cell_type": "code",
   "execution_count": 10,
   "metadata": {},
   "outputs": [],
   "source": [
    "new_list = [2,4,8,16,32,64]"
   ]
  },
  {
   "cell_type": "code",
   "execution_count": 11,
   "metadata": {},
   "outputs": [],
   "source": [
    "def krank_approx(k,X_train):\n",
    "    low_rank_ = []\n",
    "    for i in range(len(X_train)):\n",
    "        low_rank_.append(X_train[i].flatten())\n",
    "    U,S,Vt = np.linalg.svd(low_rank_,full_matrices=False)\n",
    "    arr = np.zeros((U.dot(Vt).shape))\n",
    "    for i in range(k):\n",
    "        arr+=np.reshape(U[:,i],(60000,1)).dot(np.reshape(Vt[i],(1,784)))*S[i]\n",
    "    return arr"
   ]
  },
  {
   "cell_type": "code",
   "execution_count": 13,
   "metadata": {},
   "outputs": [
    {
     "name": "stdout",
     "output_type": "stream",
     "text": [
      "k is  2 Accuracy is  32.76\n",
      "k is  4 Accuracy is  44.39\n",
      "k is  8 Accuracy is  59.07\n",
      "k is  16 Accuracy is  58.550000000000004\n",
      "k is  32 Accuracy is  59.43000000000001\n",
      "k is  64 Accuracy is  59.440000000000005\n"
     ]
    }
   ],
   "source": [
    "for k in new_list:\n",
    "    arr = krank_approx(k,X_train)\n",
    "    km.fit(arr)\n",
    "    labels_n = {i:[] for i in range(10)}\n",
    "    for i in range(len(arr)):\n",
    "        min_ = [100,np.inf]\n",
    "        for j in range(len(km.cluster_centers_)):\n",
    "            if np.linalg.norm(km.cluster_centers_[j] - arr[i])<min_[1]:\n",
    "                min_[1] = np.linalg.norm(km.cluster_centers_[j] - arr[i])\n",
    "                min_[0] = j\n",
    "        labels_n[min_[0]].append(y_train[i])\n",
    "    new_labels = {}\n",
    "    for i in labels_n:\n",
    "        data = Counter(labels_n[i])\n",
    "        data.most_common()      \n",
    "        new_labels[i] = data.most_common(1)[0][0]\n",
    "    predicted = km.predict(test)\n",
    "    accurate = 0\n",
    "    for i in range(len(predicted)):\n",
    "        if new_labels[predicted[i]]==y_test[i]:\n",
    "            accurate+=1\n",
    "    print(\"k is \",k,\"Accuracy is \",accurate/len(y_test)*100)"
   ]
  }
 ],
 "metadata": {
  "kernelspec": {
   "display_name": "Python 3",
   "language": "python",
   "name": "python3"
  },
  "language_info": {
   "codemirror_mode": {
    "name": "ipython",
    "version": 3
   },
   "file_extension": ".py",
   "mimetype": "text/x-python",
   "name": "python",
   "nbconvert_exporter": "python",
   "pygments_lexer": "ipython3",
   "version": "3.6.8"
  }
 },
 "nbformat": 4,
 "nbformat_minor": 2
}
