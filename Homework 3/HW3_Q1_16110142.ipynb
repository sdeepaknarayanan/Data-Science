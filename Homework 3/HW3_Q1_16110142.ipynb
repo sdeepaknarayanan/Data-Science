{
 "cells": [
  {
   "cell_type": "code",
   "execution_count": 1,
   "metadata": {},
   "outputs": [],
   "source": [
    "import numpy as np\n",
    "import matplotlib.pyplot as plt\n",
    "from sklearn.linear_model import LinearRegression\n",
    "from sklearn.metrics import mean_squared_error"
   ]
  },
  {
   "cell_type": "code",
   "execution_count": 2,
   "metadata": {},
   "outputs": [],
   "source": [
    "file = open('MovieLens/ml80.train')\n",
    "new = []\n",
    "for i in file:\n",
    "    lst = i.split()\n",
    "    for j in range(len(lst)):\n",
    "        lst[j] = int(lst[j])\n",
    "    new.append(lst)\n",
    "new = np.array(new)\n",
    "file.close()\n",
    "final_arr = np.zeros((new[:,0].max(), new[:,1].max()))\n",
    "for i in range(len(new)):\n",
    "    final_arr[new[i][0] - 1][new[i][1] - 1] = int(new[i][2])"
   ]
  },
  {
   "cell_type": "code",
   "execution_count": 3,
   "metadata": {},
   "outputs": [],
   "source": [
    "file = open('MovieLens/ml20.test')\n",
    "new_t = []\n",
    "for i in file:\n",
    "    lst = i.split()\n",
    "    for j in range(len(lst)):\n",
    "        lst[j] = int(lst[j])\n",
    "    new_t.append(lst)\n",
    "new_t = np.array(new_t)\n",
    "file.close()\n",
    "final_test = np.zeros((943,1682))\n",
    "for i in range(len(new_t)):\n",
    "    final_test[new_t[i][0] - 1][new_t[i][1] - 1] = int(new_t[i][2])"
   ]
  },
  {
   "cell_type": "code",
   "execution_count": 4,
   "metadata": {},
   "outputs": [],
   "source": [
    "def krank_approx(k,X_train):\n",
    "    \n",
    "    U,S,Vt = np.linalg.svd(X_train,full_matrices=False)\n",
    "    \n",
    "    if k>=len(S):\n",
    "        return X_train\n",
    "    else:\n",
    "        U_n = U[:,:k]\n",
    "        S_n = np.diag(S[:k])\n",
    "        V_n = Vt[:k,:]\n",
    "        X = np.matmul(U_n,np.matmul(S_n,V_n))\n",
    "    return X"
   ]
  },
  {
   "cell_type": "code",
   "execution_count": 5,
   "metadata": {},
   "outputs": [
    {
     "data": {
      "text/plain": [
       "array([[ 3.23430743e+00,  1.43806522e+00,  1.23417265e+00, ...,\n",
       "        -1.03312399e-02,  1.94909601e-02,  4.60322764e-02],\n",
       "       [ 1.22586509e+00, -2.88083617e-01,  1.62581212e-01, ...,\n",
       "         1.49902353e-02, -4.54857894e-03, -1.06344165e-02],\n",
       "       [-2.86424303e-01,  9.54477175e-02, -9.04171302e-03, ...,\n",
       "         2.26427980e-02,  1.49362140e-03, -8.45181606e-03],\n",
       "       ...,\n",
       "       [ 1.28642167e+00,  1.54788629e-03,  3.34304381e-01, ...,\n",
       "        -1.20322740e-03, -1.14504978e-03,  3.32772850e-03],\n",
       "       [ 6.20066221e-01,  3.23389177e-01, -4.04034378e-01, ...,\n",
       "         2.12430213e-02,  6.48545771e-03, -2.47168101e-02],\n",
       "       [ 2.83769505e+00,  1.81793313e+00,  1.02478113e+00, ...,\n",
       "        -1.02142456e-02,  2.32845587e-02,  3.28301011e-02]])"
      ]
     },
     "execution_count": 5,
     "metadata": {},
     "output_type": "execute_result"
    }
   ],
   "source": [
    "krank_approx(5,final_arr)"
   ]
  },
  {
   "cell_type": "code",
   "execution_count": 6,
   "metadata": {},
   "outputs": [],
   "source": [
    "error = {i:0 for i in range(1,101)}\n",
    "for k in [i for i in range(1,101)]:\n",
    "    approx = krank_approx(k,final_arr)\n",
    "    temp = 0\n",
    "    for i in range(len(approx)):\n",
    "        for j in range(len(approx[0])):\n",
    "            if final_test[i][j]!=0:\n",
    "                temp+= (approx[i][j] - final_test[i][j])**2\n",
    "    error[k] = temp\n"
   ]
  },
  {
   "cell_type": "code",
   "execution_count": 7,
   "metadata": {},
   "outputs": [],
   "source": [
    "mus = final_arr.mean(axis=1)\n",
    "etas = final_arr.mean(axis=0)\n",
    "baseline = []\n",
    "for i in range(len(final_arr)):\n",
    "    for j in range(len(final_arr[1])):\n",
    "        baseline.append([mus[i],etas[j],final_arr[i][j]])\n",
    "baseline= np.array(baseline)\n",
    "\n",
    "testing = []\n",
    "actual= []\n",
    "for i in range(len(final_arr)):\n",
    "    for j in range(len(final_arr[1])):\n",
    "        if final_test[i][j]!=0:\n",
    "            testing.append([mus[i],etas[j],final_test[i][j]])\n",
    "            actual.append(final_test[i][j])\n",
    "testing = np.array(testing)\n",
    "lr = LinearRegression(fit_intercept=False)\n",
    "lr.fit(baseline[:,:2],baseline[:,2])\n",
    "predicted = lr.predict(testing[:,:2])\n",
    "error_ = mean_squared_error(predicted, actual)*len(actual)"
   ]
  },
  {
   "cell_type": "code",
   "execution_count": 15,
   "metadata": {},
   "outputs": [
    {
     "data": {
      "text/plain": [
       "<matplotlib.legend.Legend at 0x7f6447b35f98>"
      ]
     },
     "execution_count": 15,
     "metadata": {},
     "output_type": "execute_result"
    },
    {
     "data": {
      "image/png": "[encoded data removed]",
      "text/plain": [
       "<Figure size 432x288 with 1 Axes>"
      ]
     },
     "metadata": {
      "needs_background": "light"
     },
     "output_type": "display_data"
    }
   ],
   "source": [
    "plt.plot([i+1 for i in range(100)], [error_ for i in range(100)],label='Baseline')\n",
    "plt.plot([i+1 for i in range(100)],[error[i+1] for i in range(100)],label='Low rank approx.')\n",
    "plt.title('Error vs Low rank approximation - Baseline error')\n",
    "plt.xlabel('Varying value of K')\n",
    "plt.ylabel('Error ')\n",
    "plt.legend(loc='lower right')"
   ]
  }
 ],
 "metadata": {
  "kernelspec": {
   "display_name": "Python 3",
   "language": "python",
   "name": "python3"
  },
  "language_info": {
   "codemirror_mode": {
    "name": "ipython",
    "version": 3
   },
   "file_extension": ".py",
   "mimetype": "text/x-python",
   "name": "python",
   "nbconvert_exporter": "python",
   "pygments_lexer": "ipython3",
   "version": "3.6.8"
  }
 },
 "nbformat": 4,
 "nbformat_minor": 2
}
